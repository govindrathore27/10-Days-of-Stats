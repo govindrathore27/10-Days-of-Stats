{
 "cells": [
  {
   "cell_type": "code",
   "execution_count": 1,
   "metadata": {},
   "outputs": [
    {
     "name": "stdout",
     "output_type": "stream",
     "text": [
      "95 85\n",
      "85 95\n",
      "80 70\n",
      "70 65\n",
      "60 70\n",
      "78.288\n"
     ]
    }
   ],
   "source": [
    "# Enter your code here. Read input from STDIN. Print output to STDOUT\n",
    "x = []\n",
    "y =[]\n",
    "for i in range(5):\n",
    "    p,q = [int(x) for x in input().split(\" \")]\n",
    "    x.append(p)\n",
    "    y.append(q)\n",
    "def standard_deviation(l):\n",
    "    mean = sum(l)/5\n",
    "    sd = sum(list(map(lambda x : (x - mean)**2,l)))\n",
    "    return (sd/5)**0.5\n",
    "def pr_Corelation(l,n):\n",
    "    mean_l,mean_n = sum(l)/5,sum(n)/5\n",
    "    num = sum(list(map(lambda x ,y: (x - mean_l)*(y - mean_n),l,n)))\n",
    "    den1 = sum(list(map(lambda x : (x - mean_l)**2,l)))\n",
    "    den2 = sum(list(map(lambda x : (x - mean_n)**2,n)))\n",
    "    den = (den1*den2)**0.5\n",
    "    return num/den\n",
    "b = pr_Corelation(x,y) * ((standard_deviation(y))/ standard_deviation(x))\n",
    "meanX = sum(x)/5\n",
    "meanY = sum(y)/5\n",
    "a = meanY - b*meanX\n",
    "print(round(a + b*80,3))"
   ]
  },
  {
   "cell_type": "code",
   "execution_count": null,
   "metadata": {},
   "outputs": [],
   "source": []
  }
 ],
 "metadata": {
  "kernelspec": {
   "display_name": "Python 3",
   "language": "python",
   "name": "python3"
  },
  "language_info": {
   "codemirror_mode": {
    "name": "ipython",
    "version": 3
   },
   "file_extension": ".py",
   "mimetype": "text/x-python",
   "name": "python",
   "nbconvert_exporter": "python",
   "pygments_lexer": "ipython3",
   "version": "3.8.5"
  }
 },
 "nbformat": 4,
 "nbformat_minor": 4
}
