{
 "cells": [
  {
   "cell_type": "code",
   "execution_count": 1,
   "metadata": {},
   "outputs": [
    {
     "name": "stdout",
     "output_type": "stream",
     "text": [
      "10\n",
      "10 9.8 8 7.8 7.7 1.7 6 5 1.4 2 \n",
      "200 44 32 24 22 17 15 12 8 4\n",
      "0.903\n"
     ]
    }
   ],
   "source": [
    "# Enter your code here. Read input from STDIN. Print output to STDOUT\n",
    "n = int(input())\n",
    "x = list(map(float,input().split()))\n",
    "y=  list(map(float,input().split()))\n",
    "unique_X = dict(((j ,i +1) for i,j in list(enumerate(sorted(set(x))))))\n",
    "unique_Y = dict(((j ,i +1) for i,j in list(enumerate(sorted(set(y))))))\n",
    "d =0\n",
    "for i in range(len(x)):\n",
    "    d = d + (unique_X[x[i]] - unique_Y[y[i]])**2\n",
    "r = 1 - 6*(d/(n*(n**2 -1)))\n",
    "print(round(r,3))\n"
   ]
  },
  {
   "cell_type": "code",
   "execution_count": null,
   "metadata": {},
   "outputs": [],
   "source": []
  }
 ],
 "metadata": {
  "kernelspec": {
   "display_name": "Python 3",
   "language": "python",
   "name": "python3"
  },
  "language_info": {
   "codemirror_mode": {
    "name": "ipython",
    "version": 3
   },
   "file_extension": ".py",
   "mimetype": "text/x-python",
   "name": "python",
   "nbconvert_exporter": "python",
   "pygments_lexer": "ipython3",
   "version": "3.8.5"
  }
 },
 "nbformat": 4,
 "nbformat_minor": 4
}
