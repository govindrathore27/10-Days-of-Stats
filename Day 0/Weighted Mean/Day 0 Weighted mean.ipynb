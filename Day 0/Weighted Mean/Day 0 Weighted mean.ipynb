{
 "cells": [
  {
   "cell_type": "code",
   "execution_count": 2,
   "metadata": {},
   "outputs": [
    {
     "name": "stdout",
     "output_type": "stream",
     "text": [
      "5\n",
      "10 40 30 50 20\n",
      "1 2 3 4 5\n",
      "Weighted mean:32.0\n"
     ]
    }
   ],
   "source": [
    "# Enter your code here. Read input from STDIN. Print output to STDOUT\n",
    "n = int(input().strip())\n",
    "x = [int(i) for i in input().split(\" \")]\n",
    "w = [int(i) for i in input().split(\" \")]\n",
    "sum_x =0\n",
    "sum_w = 0\n",
    "for p in range(len(x)):\n",
    "    sum_x = sum_x + x[p]*w[p]\n",
    "    sum_w = sum_w + w[p]\n",
    "weighted_mean = sum_x/sum_w\n",
    "print(f\"Weighted mean:{round(weighted_mean,1)}\")\n"
   ]
  },
  {
   "cell_type": "code",
   "execution_count": null,
   "metadata": {},
   "outputs": [],
   "source": []
  }
 ],
 "metadata": {
  "kernelspec": {
   "display_name": "Python 3",
   "language": "python",
   "name": "python3"
  },
  "language_info": {
   "codemirror_mode": {
    "name": "ipython",
    "version": 3
   },
   "file_extension": ".py",
   "mimetype": "text/x-python",
   "name": "python",
   "nbconvert_exporter": "python",
   "pygments_lexer": "ipython3",
   "version": "3.8.5"
  }
 },
 "nbformat": 4,
 "nbformat_minor": 4
}
