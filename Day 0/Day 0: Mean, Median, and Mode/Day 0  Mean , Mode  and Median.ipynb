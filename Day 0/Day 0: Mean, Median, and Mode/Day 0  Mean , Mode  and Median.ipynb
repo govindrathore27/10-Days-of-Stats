{
 "cells": [
  {
   "cell_type": "code",
   "execution_count": 2,
   "metadata": {},
   "outputs": [
    {
     "name": "stdout",
     "output_type": "stream",
     "text": [
      "10\n",
      "64630 11735 14216 99233 14470 4978 73429 38120 51135 67060\n",
      "Mean :43900.6\n",
      "Meadian : 44627.5\n",
      "Mode :4978\n"
     ]
    }
   ],
   "source": [
    "# Enter your code here. Read input from STDIN. Print output to STDOUT\n",
    "n = int(input().strip())\n",
    "x = [int(y) for y in input().split(\" \")]\n",
    "sorted_x = sorted(x)\n",
    "p = set(x)\n",
    "counter = {}\n",
    "for i in range(0,len(x)):\n",
    "    t = sorted_x[i]\n",
    "    count=0\n",
    "    for j in sorted_x:\n",
    "        if j == t:\n",
    "            count+=1\n",
    "    counter[t] = count\n",
    "max_count = max(counter.values())\n",
    "for i in counter.keys():\n",
    "    if max_count == counter[i]:\n",
    "        mode = i\n",
    "        break\n",
    "if len(x)%2!=0:\n",
    "    median = sorted_x[len(x)//2 + 1]\n",
    "else:\n",
    "    median = (sorted_x[len(x)//2 - 1] + sorted_x[len(x)//2])/2\n",
    "mean = sum(x)/len(x)\n",
    "print(f\"Mean :{mean}\")\n",
    "print(f\"Meadian : {median}\")\n",
    "print(f\"Mode :{mode}\")"
   ]
  },
  {
   "cell_type": "code",
   "execution_count": null,
   "metadata": {},
   "outputs": [],
   "source": []
  }
 ],
 "metadata": {
  "kernelspec": {
   "display_name": "Python 3",
   "language": "python",
   "name": "python3"
  },
  "language_info": {
   "codemirror_mode": {
    "name": "ipython",
    "version": 3
   },
   "file_extension": ".py",
   "mimetype": "text/x-python",
   "name": "python",
   "nbconvert_exporter": "python",
   "pygments_lexer": "ipython3",
   "version": "3.8.5"
  }
 },
 "nbformat": 4,
 "nbformat_minor": 4
}
