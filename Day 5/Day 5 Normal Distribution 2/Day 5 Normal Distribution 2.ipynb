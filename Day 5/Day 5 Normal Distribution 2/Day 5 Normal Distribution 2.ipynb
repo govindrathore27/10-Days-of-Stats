{
 "cells": [
  {
   "cell_type": "code",
   "execution_count": 1,
   "metadata": {},
   "outputs": [
    {
     "name": "stdout",
     "output_type": "stream",
     "text": [
      "70 10\n",
      "80\n",
      "60\n",
      "15.87\n",
      "84.13\n",
      "15.87\n"
     ]
    }
   ],
   "source": [
    "# Enter your code here. Read input from STDIN. Print output to STDOUT\n",
    "mu,sd = list(map(float,input().split(\" \")))\n",
    "a = int(input().strip())\n",
    "b=int(input().strip())\n",
    "import math as m\n",
    "cdf = lambda x: 0.5 * (1 + m.erf((x - mu) / (sd * (2 ** 0.5))))\n",
    "print(round((1 - cdf(a))*100,2))\n",
    "print(round((1 - cdf(b))*100,2))\n",
    "print(round(cdf(b)*100,2))\n"
   ]
  },
  {
   "cell_type": "code",
   "execution_count": null,
   "metadata": {},
   "outputs": [],
   "source": []
  }
 ],
 "metadata": {
  "kernelspec": {
   "display_name": "Python 3",
   "language": "python",
   "name": "python3"
  },
  "language_info": {
   "codemirror_mode": {
    "name": "ipython",
    "version": 3
   },
   "file_extension": ".py",
   "mimetype": "text/x-python",
   "name": "python",
   "nbconvert_exporter": "python",
   "pygments_lexer": "ipython3",
   "version": "3.8.5"
  }
 },
 "nbformat": 4,
 "nbformat_minor": 4
}
