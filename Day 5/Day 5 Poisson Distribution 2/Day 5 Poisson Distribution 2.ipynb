{
 "cells": [
  {
   "cell_type": "code",
   "execution_count": 1,
   "metadata": {},
   "outputs": [
    {
     "name": "stdout",
     "output_type": "stream",
     "text": [
      "0.88 1.55\n",
      "226.176\n",
      "286.1\n"
     ]
    }
   ],
   "source": [
    "# Enter your code here. Read input from STDIN. Print output to STDOUT\n",
    "lamA,lamB = [float(x) for x in input().split(\" \")]\n",
    "# Var(X) = E[X^2] - (E[x])^2\n",
    "# E[X^2] = Var(X) + (E[X])^2\n",
    "# Var(X) = E[X] = lambda\n",
    "print(round(160 + 40*(lamA + lamA**2),3))\n",
    "print(round(128 + 40*(lamB + lamB**2),3))\n"
   ]
  },
  {
   "cell_type": "code",
   "execution_count": null,
   "metadata": {},
   "outputs": [],
   "source": []
  }
 ],
 "metadata": {
  "kernelspec": {
   "display_name": "Python 3",
   "language": "python",
   "name": "python3"
  },
  "language_info": {
   "codemirror_mode": {
    "name": "ipython",
    "version": 3
   },
   "file_extension": ".py",
   "mimetype": "text/x-python",
   "name": "python",
   "nbconvert_exporter": "python",
   "pygments_lexer": "ipython3",
   "version": "3.8.5"
  }
 },
 "nbformat": 4,
 "nbformat_minor": 4
}
