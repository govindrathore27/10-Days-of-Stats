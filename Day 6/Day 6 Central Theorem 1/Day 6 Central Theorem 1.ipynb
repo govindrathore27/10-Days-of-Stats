{
 "cells": [
  {
   "cell_type": "code",
   "execution_count": 1,
   "metadata": {},
   "outputs": [
    {
     "name": "stdout",
     "output_type": "stream",
     "text": [
      "9800\n",
      "49\n",
      "205\n",
      "15\n",
      "0.0098\n"
     ]
    }
   ],
   "source": [
    "# Enter your code here. Read input from STDIN. Print output to STDOUT\n",
    "max_weight = int(input())\n",
    "n = int(input())\n",
    "mu = int(input())\n",
    "sd = int(input())\n",
    "import math\n",
    "mean = mu * n\n",
    "s_dev = math.sqrt(n) * sd\n",
    "def cdf(x,m,s):\n",
    "    z = (x - m)/s\n",
    "    return 0.5*(1 + math.erf(z/(math.sqrt(2))))\n",
    "print(round(cdf(max_weight,mean,s_dev),4))"
   ]
  }
 ],
 "metadata": {
  "kernelspec": {
   "display_name": "Python 3",
   "language": "python",
   "name": "python3"
  },
  "language_info": {
   "codemirror_mode": {
    "name": "ipython",
    "version": 3
   },
   "file_extension": ".py",
   "mimetype": "text/x-python",
   "name": "python",
   "nbconvert_exporter": "python",
   "pygments_lexer": "ipython3",
   "version": "3.8.5"
  }
 },
 "nbformat": 4,
 "nbformat_minor": 4
}
