{
 "cells": [
  {
   "cell_type": "code",
   "execution_count": 1,
   "metadata": {},
   "outputs": [
    {
     "name": "stdout",
     "output_type": "stream",
     "text": [
      "12 10\n",
      "0.891\n",
      "0.342\n"
     ]
    }
   ],
   "source": [
    "# Enter your code here. Read input from STDIN. Print output to STDOUT\n",
    "p,n = [float(x) for x in input().split(\" \")]\n",
    "p=p/100\n",
    "q =1 - p\n",
    "def fac(r):\n",
    "    if r==1 or r==0:\n",
    "        return 1\n",
    "    else:\n",
    "        return r * fac(r-1)\n",
    "def comb(n,r):\n",
    "    return fac(n)/(fac(n-r)*fac(r))\n",
    "def b_dist(n,p,q,r):\n",
    "    return comb(n,r) * (p**r) * (q**(n-r))\n",
    "nomorethan2 = sum(list(map(lambda x:b_dist(n,p,q,x),range(3))))\n",
    "least2 = 1 - sum(list(map(lambda x:b_dist(n,p,q,x),range(2))))\n",
    "print(round(nomorethan2,3))\n",
    "print(round(least2,3))"
   ]
  },
  {
   "cell_type": "code",
   "execution_count": null,
   "metadata": {},
   "outputs": [],
   "source": []
  }
 ],
 "metadata": {
  "kernelspec": {
   "display_name": "Python 3",
   "language": "python",
   "name": "python3"
  },
  "language_info": {
   "codemirror_mode": {
    "name": "ipython",
    "version": 3
   },
   "file_extension": ".py",
   "mimetype": "text/x-python",
   "name": "python",
   "nbconvert_exporter": "python",
   "pygments_lexer": "ipython3",
   "version": "3.8.5"
  }
 },
 "nbformat": 4,
 "nbformat_minor": 4
}
