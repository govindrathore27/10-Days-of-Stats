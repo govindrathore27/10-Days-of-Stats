{
 "cells": [
  {
   "cell_type": "code",
   "execution_count": 1,
   "metadata": {},
   "outputs": [
    {
     "name": "stdout",
     "output_type": "stream",
     "text": [
      "6\n",
      "6 12 8 10 20 16\n",
      "5 4 3 2 1 5\n",
      "9.0\n"
     ]
    }
   ],
   "source": [
    "# Enter your code here. Read input from STDIN. Print output to STDOUT\n",
    "n = int(input().strip())\n",
    "x = [int(x) for x in input().split(\" \")]\n",
    "f = [int(w) for w in input().split(\" \")]\n",
    "ex = []\n",
    "for i in range(len(x)):\n",
    "    ex.extend([x[i]]*f[i])\n",
    "sorted_ex = sorted(ex)\n",
    "def median(p):\n",
    "    if len(p)%2==0:\n",
    "        median = (p[len(p)//2-1] + p[len(p)//2])/2\n",
    "    else:\n",
    "        median = p[len(p)//2]\n",
    "    return median\n",
    "q2 = median(sorted_ex)\n",
    "q1 = median(sorted_ex[0:len(sorted_ex)//2])\n",
    "if len(sorted_ex)% 2 ==0:\n",
    "    q3 = median(sorted_ex[len(sorted_ex)//2:])\n",
    "else:\n",
    "    q3 = median(sorted_ex[len(sorted_ex)//2+1:])\n",
    "formatted_string = \"{:.1f}\". format(q3 -q1)\n",
    "float_value = float(formatted_string)\n",
    "print(float_value)\n"
   ]
  },
  {
   "cell_type": "code",
   "execution_count": null,
   "metadata": {},
   "outputs": [],
   "source": []
  }
 ],
 "metadata": {
  "kernelspec": {
   "display_name": "Python 3",
   "language": "python",
   "name": "python3"
  },
  "language_info": {
   "codemirror_mode": {
    "name": "ipython",
    "version": 3
   },
   "file_extension": ".py",
   "mimetype": "text/x-python",
   "name": "python",
   "nbconvert_exporter": "python",
   "pygments_lexer": "ipython3",
   "version": "3.8.5"
  }
 },
 "nbformat": 4,
 "nbformat_minor": 4
}
