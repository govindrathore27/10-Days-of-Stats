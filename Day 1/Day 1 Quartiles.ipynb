{
 "cells": [
  {
   "cell_type": "code",
   "execution_count": 1,
   "metadata": {},
   "outputs": [
    {
     "name": "stdout",
     "output_type": "stream",
     "text": [
      "9\n",
      "3 7 8 5 12 14 21 13 18\n",
      "6\n",
      "12\n",
      "16\n"
     ]
    }
   ],
   "source": [
    "# Enter your code here. Read input from STDIN. Print output to STDOUT\n",
    "n = int(input().strip())\n",
    "x = [int(y) for y in input().split(\" \")]\n",
    "sorted_x = sorted(x)\n",
    "def median(p):\n",
    "    if len(p)%2==0:\n",
    "        median = (p[len(p)//2-1] + p[len(p)//2])/2\n",
    "    else:\n",
    "        median = p[len(p)//2]\n",
    "    return median\n",
    "q2 = median(sorted_x)\n",
    "q1 = median(sorted_x[0:len(sorted_x)//2])\n",
    "if len(sorted_x)% 2 ==0:\n",
    "    q3 = median(sorted_x[len(sorted_x)//2:])\n",
    "else:\n",
    "    q3 = median(sorted_x[len(sorted_x)//2+1:])\n",
    "print(round(q1))\n",
    "print(round(q2))\n",
    "print(round(q3))\n"
   ]
  },
  {
   "cell_type": "code",
   "execution_count": null,
   "metadata": {},
   "outputs": [],
   "source": []
  }
 ],
 "metadata": {
  "kernelspec": {
   "display_name": "Python 3",
   "language": "python",
   "name": "python3"
  },
  "language_info": {
   "codemirror_mode": {
    "name": "ipython",
    "version": 3
   },
   "file_extension": ".py",
   "mimetype": "text/x-python",
   "name": "python",
   "nbconvert_exporter": "python",
   "pygments_lexer": "ipython3",
   "version": "3.8.5"
  }
 },
 "nbformat": 4,
 "nbformat_minor": 4
}
